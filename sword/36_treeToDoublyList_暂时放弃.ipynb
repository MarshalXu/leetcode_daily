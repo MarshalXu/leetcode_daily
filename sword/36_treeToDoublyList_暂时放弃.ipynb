{
 "cells": [
  {
   "attachments": {},
   "cell_type": "markdown",
   "metadata": {},
   "source": [
    "输入一棵二叉搜索树，将该二叉搜索树转换成一个排序的循环双向链表。要求不能创建任何新的节点，只能调整树中节点指针的指向。\n",
    "\n",
    "为了让您更好地理解问题，以下面的二叉搜索树为例：\n",
    "\n",
    " ![Alt text](36_treeToDoublyList_pics/aad55bc886270307a27798fab29c289.png)\n",
    "\n",
    "我们希望将这个二叉搜索树转化为双向循环链表。链表中的每个节点都有一个前驱和后继指针。对于双向循环链表，第一个节点的前驱是最后一个节点，最后一个节点的后继是第一个节点。\n",
    "\n",
    "下图展示了上面的二叉搜索树转化成的链表。“head” 表示指向链表中有最小元素的节点。\n",
    "\n",
    "![Alt text](36_treeToDoublyList_pics/0cf7b7e6307e639bbcb540914515b7b.png)\n",
    "\n",
    "特别地，我们希望可以就地完成转换操作。当转化完成以后，树中节点的左指针需要指向前驱，树中节点的右指针需要指向后继。还需要返回链表中的第一个节点的指针。"
   ]
  },
  {
   "cell_type": "code",
   "execution_count": null,
   "metadata": {},
   "outputs": [],
   "source": [
    "# -*- coding: utf-8 -*-\n",
    "'''\n",
    "# Created on 01-31-23 09:57\n",
    "# @Filename: 36_treeToDoublyList.ipynb\n",
    "# @Desp: 来源于https://leetcode.cn/problems/er-cha-sou-suo-shu-yu-shuang-xiang-lian-biao-lcof\n",
    "# @software: vscode\n",
    "# @author: xuchang0514@sina.com\n",
    "'''\n",
    "#lib moduls:\n",
    "import os,sys\n",
    "sys.path.append(os.path.dirname(os.path.abspath(__file__)))\n",
    "from typing import List\n",
    "\n",
    "\"\"\"\n",
    "# Definition for a Node.\n",
    "\n",
    "\"\"\"\n",
    "class Node:\n",
    "    def __init__(self, val, left=None, right=None):\n",
    "        self.val = val\n",
    "        self.left = left\n",
    "        self.right = right\n",
    "class Solution:\n",
    "    def treeToDoublyList(self, root: 'Node') -> 'Node':\n",
    "        \n"
   ]
  }
 ],
 "metadata": {
  "kernelspec": {
   "display_name": "pyt",
   "language": "python",
   "name": "python3"
  },
  "language_info": {
   "name": "python",
   "version": "3.9.7 (default, Sep 16 2021, 16:59:28) [MSC v.1916 64 bit (AMD64)]"
  },
  "orig_nbformat": 4,
  "vscode": {
   "interpreter": {
    "hash": "833feca03d319a74ead30bf2155521ed988907496c2ed36836a93fa668dcd9f1"
   }
  }
 },
 "nbformat": 4,
 "nbformat_minor": 2
}
