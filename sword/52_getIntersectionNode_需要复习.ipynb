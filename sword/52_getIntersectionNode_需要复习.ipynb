{
 "cells": [
  {
   "attachments": {},
   "cell_type": "markdown",
   "metadata": {},
   "source": [
    "输入两个链表，找出它们的第一个公共节点。\n",
    "\n",
    "如下面的两个链表：\n",
    "\n",
    "![Alt text](52_getIntersectionNode_pics/5f7318430a927a870a5dae51a44787f.png)\n",
    "\n",
    "在节点 c1 开始相交。\n",
    "\n",
    " \n",
    "示例 1：\n",
    "\n",
    "![Alt text](52_getIntersectionNode_pics/cda51b7fa484ce01fc6a36159c052b3.png)\n",
    "\n",
    "输入：intersectVal = 8, listA = [4,1,8,4,5], listB = [5,0,1,8,4,5], skipA = 2, skipB = 3\n",
    "输出：Reference of the node with value = 8\n",
    "输入解释：相交节点的值为 8 （注意，如果两个列表相交则不能为 0）。从各自的表头开始算起，链表 A 为 [4,1,8,4,5]，链表 B 为 [5,0,1,8,4,5]。在 A 中，相交节点前有 2 个节点；在 B 中，相交节点前有 3 个节点。\n",
    " \n",
    "\n",
    "示例 2：\n",
    "\n",
    "![Alt text](52_getIntersectionNode_pics/15045cc1b53c5d1c2c0ffc846127cf2.png)\n",
    "\n",
    "输入：intersectVal = 2, listA = [0,9,1,2,4], listB = [3,2,4], skipA = 3, skipB = 1\n",
    "输出：Reference of the node with value = 2\n",
    "输入解释：相交节点的值为 2 （注意，如果两个列表相交则不能为 0）。从各自的表头开始算起，链表 A 为 [0,9,1,2,4]，链表 B 为 [3,2,4]。在 A 中，相交节点前有 3 个节点；在 B 中，相交节点前有 1 个节点。\n",
    " \n",
    "示例 3：\n",
    "\n",
    "![Alt text](52_getIntersectionNode_pics/f56d44318db69ee0b624d6b165c0ed1.png)\n",
    "\n",
    "输入：intersectVal = 0, listA = [2,6,4], listB = [1,5], skipA = 3, skipB = 2\n",
    "输出：null\n",
    "输入解释：从各自的表头开始算起，链表 A 为 [2,6,4]，链表 B 为 [1,5]。由于这两个链表不相交，所以 intersectVal 必须为 0，而 skipA 和 skipB 可以是任意值。\n",
    "解释：这两个链表不相交，因此返回 null。\n",
    " \n",
    "\n",
    "注意：\n",
    "\n",
    "如果两个链表没有交点，返回 null.\n",
    "在返回结果后，两个链表仍须保持原有的结构。\n",
    "可假定整个链表结构中没有循环。\n",
    "程序尽量满足 O(n) 时间复杂度，且仅用 O(1) 内存。\n"
   ]
  },
  {
   "cell_type": "code",
   "execution_count": null,
   "metadata": {},
   "outputs": [],
   "source": [
    "# -*- coding: utf-8 -*-\n",
    "'''\n",
    "# Created on 01-28-23 17:17\n",
    "# @Filename: 52_getIntersectionNode.ipynb\n",
    "# @Desp: 来源于https://leetcode.cn/problems/liang-ge-lian-biao-de-di-yi-ge-gong-gong-jie-dian-lcof\n",
    "# 本题 160 题相同:https://leetcode-cn.com/problems/intersection-of-two-linked-lists/\n",
    "# @software: vscode\n",
    "# @author: xuchang0514@sina.com\n",
    "'''\n",
    "#lib moduls:\n",
    "import os,sys\n",
    "sys.path.append(os.path.dirname(os.path.abspath(__file__)))\n",
    "from typing import List\n",
    "\n",
    "# Definition for singly-linked list.\n",
    "class ListNode:\n",
    "    def __init__(self, x):\n",
    "        self.val = x\n",
    "        self.next = None\n",
    "\n",
    "class Solution:\n",
    "    def getIntersectionNode(self, headA: ListNode, headB: ListNode) -> ListNode:\n",
    "        if not headA.next or not headB.next:\n",
    "            return None\n",
    "        \n",
    "        if headA.next.val == headB.next.val:\n",
    "            return headA.next\n",
    "        else:\n",
    "            return self.getIntersectionNode(headA.next, headB.next)\n",
    "\n",
    "class Solution:  # 双指针为最优解，“我走过你走过的路，我们算不算相逢，牛批。。。。。。”\n",
    "\n",
    "    def getIntersectionNode(self, headA: ListNode, headB: ListNode) -> ListNode:\n",
    "        \"\"\"Time: O(m+n), Space: O(1)  \n",
    "        双指针法（浪漫相遇很牛批的名称），非常容易理解： \n",
    "            - 两个指针遍历完自己的节点之后，开始遍历对方的，因为走的路程总长度是一样的，指针相遇位置就是第一个公共节点\n",
    "            - ps: 不相交的链表，可以理解相较于None\n",
    "        \"\"\"\n",
    "        if not headA or not headB:\n",
    "            return None\n",
    "        \n",
    "        p1, p2 = headA, headB\n",
    "        while p1 != p2:  # 最多循环m+n次\n",
    "            p1 = p1.next if p1 else headB\n",
    "            p2 = p2.next if p2 else headA\n",
    "        \n",
    "        return p1\n"
   ]
  },
  {
   "cell_type": "code",
   "execution_count": 11,
   "metadata": {},
   "outputs": [
    {
     "name": "stdout",
     "output_type": "stream",
     "text": [
      "{'LOC': '\\ndef factorial(num):\\n    fact=1\\n    for i in range(1,num+1):\\n        fact = fact*i\\n    return fact\\nres = factorial(5)\\n', 'factorial': <function factorial at 0x000002031E872940>, 'res': 120}\n",
      "120\n"
     ]
    }
   ],
   "source": [
    "def exec_code():\n",
    "    # res = 0\n",
    "    LOC = \"\"\"\n",
    "def factorial(num):\n",
    "    fact=1\n",
    "    for i in range(1,num+1):\n",
    "        fact = fact*i\n",
    "    return fact\n",
    "res = factorial(5)\n",
    "\"\"\"\n",
    "    \n",
    "    exec(LOC)\n",
    "    print(locals())\n",
    "    r = locals().get(\"res\")\n",
    "    print(r)\n",
    "exec_code()"
   ]
  }
 ],
 "metadata": {
  "kernelspec": {
   "display_name": "pyt",
   "language": "python",
   "name": "python3"
  },
  "language_info": {
   "codemirror_mode": {
    "name": "ipython",
    "version": 3
   },
   "file_extension": ".py",
   "mimetype": "text/x-python",
   "name": "python",
   "nbconvert_exporter": "python",
   "pygments_lexer": "ipython3",
   "version": "3.9.7 (default, Sep 16 2021, 16:59:28) [MSC v.1916 64 bit (AMD64)]"
  },
  "orig_nbformat": 4,
  "vscode": {
   "interpreter": {
    "hash": "833feca03d319a74ead30bf2155521ed988907496c2ed36836a93fa668dcd9f1"
   }
  }
 },
 "nbformat": 4,
 "nbformat_minor": 2
}
